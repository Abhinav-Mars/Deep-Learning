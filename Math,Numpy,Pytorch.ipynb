{
  "nbformat": 4,
  "nbformat_minor": 0,
  "metadata": {
    "colab": {
      "provenance": []
    },
    "kernelspec": {
      "name": "python3",
      "display_name": "Python 3"
    },
    "language_info": {
      "name": "python"
    }
  },
  "cells": [
    {
      "cell_type": "code",
      "execution_count": null,
      "metadata": {
        "id": "aAe4F8rrYpWl"
      },
      "outputs": [],
      "source": [
        "import numpy as np\n",
        "import torch\n",
        "import matplotlib.pyplot as plt"
      ]
    },
    {
      "cell_type": "markdown",
      "source": [
        "**Transposing** using numpy\n"
      ],
      "metadata": {
        "id": "ZuuDMNmX1Lnh"
      }
    },
    {
      "cell_type": "code",
      "source": [
        "# initialize a vector\n",
        "vect = np.random.randint(10,size=(3,5))\n",
        "\n",
        "# print the vector\n",
        "print(vect),print(' ')\n",
        "\n",
        "# print the transpose of the vector\n",
        "#Method 1\n",
        "print(vect.T)\n",
        "print(' ')\n",
        "\n",
        "#Method 2\n",
        "np.transpose(vect)"
      ],
      "metadata": {
        "colab": {
          "base_uri": "https://localhost:8080/"
        },
        "id": "XFiLQpBfZII6",
        "outputId": "8c78884c-61e2-4b55-b113-47e096bedc3e"
      },
      "execution_count": null,
      "outputs": [
        {
          "output_type": "stream",
          "name": "stdout",
          "text": [
            "[[6 4 5 8 8]\n",
            " [4 0 6 5 6]\n",
            " [4 5 0 6 4]]\n",
            " \n",
            "[[6 4 4]\n",
            " [4 0 5]\n",
            " [5 6 0]\n",
            " [8 5 6]\n",
            " [8 6 4]]\n",
            " \n"
          ]
        },
        {
          "output_type": "execute_result",
          "data": {
            "text/plain": [
              "array([[6, 4, 4],\n",
              "       [4, 0, 5],\n",
              "       [5, 6, 0],\n",
              "       [8, 5, 6],\n",
              "       [8, 6, 4]])"
            ]
          },
          "metadata": {},
          "execution_count": 2
        }
      ]
    },
    {
      "cell_type": "markdown",
      "source": [
        "**Transposing** using PyTorch\n"
      ],
      "metadata": {
        "id": "2SrHtku_180N"
      }
    },
    {
      "cell_type": "code",
      "source": [
        "#Initialize a matrix\n",
        "tv = torch.tensor([[1,2,3,4],[5,6,7,8]])\n",
        "print(tv),print(' ')\n",
        "\n",
        "#print the transpose\n",
        "print(tv.T)"
      ],
      "metadata": {
        "colab": {
          "base_uri": "https://localhost:8080/"
        },
        "id": "hXtvTuBa1wmn",
        "outputId": "ea37417b-65ec-4f5f-a0bf-150d8bc58b63"
      },
      "execution_count": null,
      "outputs": [
        {
          "output_type": "stream",
          "name": "stdout",
          "text": [
            "tensor([[1, 2, 3, 4],\n",
            "        [5, 6, 7, 8]])\n",
            " \n",
            "tensor([[1, 5],\n",
            "        [2, 6],\n",
            "        [3, 7],\n",
            "        [4, 8]])\n"
          ]
        }
      ]
    },
    {
      "cell_type": "markdown",
      "source": [
        "**Dot Product** using numpy\n"
      ],
      "metadata": {
        "id": "QZeuHpm2249G"
      }
    },
    {
      "cell_type": "code",
      "source": [
        "nv1 = np.array([1,2,3,4])\n",
        "nv2 = np.array([4,5,2,2])\n",
        "\n",
        "# dot product via function\n",
        "print(np.dot(nv1,nv2))\n",
        "\n",
        "# dot  product via computation\n",
        "print(np.sum(nv1*nv2)) # Here nv1*nv2 gives an numpy array containing the products of the corresponding elements"
      ],
      "metadata": {
        "colab": {
          "base_uri": "https://localhost:8080/"
        },
        "id": "ugFCxoEX2xHM",
        "outputId": "4061004a-31fe-456e-bbda-49453c934a0e"
      },
      "execution_count": null,
      "outputs": [
        {
          "output_type": "stream",
          "name": "stdout",
          "text": [
            "28\n",
            "28\n"
          ]
        }
      ]
    },
    {
      "cell_type": "markdown",
      "source": [
        "**Dot Product** using PyTorch"
      ],
      "metadata": {
        "id": "ZFH0DaHR488K"
      }
    },
    {
      "cell_type": "code",
      "source": [
        "tv1 = torch.tensor([4,6,1,2])\n",
        "tv2 = torch.tensor([-4,2,-3,4])\n",
        "\n",
        "# dot product via function\n",
        "print(torch.dot(tv1,tv2))\n",
        "\n",
        "#dot product using computation\n",
        "print(torch.sum(tv1*tv2))"
      ],
      "metadata": {
        "colab": {
          "base_uri": "https://localhost:8080/"
        },
        "id": "f8Y4n-xU48Sn",
        "outputId": "eb299e6e-9de4-4a19-b8fe-0ac47fed7c1e"
      },
      "execution_count": null,
      "outputs": [
        {
          "output_type": "stream",
          "name": "stdout",
          "text": [
            "tensor(1)\n",
            "tensor(1)\n"
          ]
        }
      ]
    },
    {
      "cell_type": "markdown",
      "source": [
        "**Matrix Multiplication** using numpy"
      ],
      "metadata": {
        "id": "lG8aMuNa-53w"
      }
    },
    {
      "cell_type": "code",
      "source": [
        "A = np.random.randn(4,3)\n",
        "B = np.random.randn(3,5)\n",
        "\n",
        "# Matrix multiplication using matmul\n",
        "print(np.round(np.matmul(A,B), 2))\n",
        "print(' ')\n",
        "\n",
        "# Matrix multiplication Using @\n",
        "print(np.round(A@B, 2))"
      ],
      "metadata": {
        "colab": {
          "base_uri": "https://localhost:8080/"
        },
        "id": "u1mN9bsQ-34c",
        "outputId": "25bcac57-8936-4d6a-b68d-d1e80e50509d"
      },
      "execution_count": null,
      "outputs": [
        {
          "output_type": "stream",
          "name": "stdout",
          "text": [
            "[[-1.84  1.1  -0.31 -1.36  0.71]\n",
            " [-1.32  0.06  2.9   0.27  0.9 ]\n",
            " [ 0.63 -0.36  1.29  1.02 -0.63]\n",
            " [ 1.02  1.08  0.03  1.17 -3.45]]\n",
            " \n",
            "[[-1.84  1.1  -0.31 -1.36  0.71]\n",
            " [-1.32  0.06  2.9   0.27  0.9 ]\n",
            " [ 0.63 -0.36  1.29  1.02 -0.63]\n",
            " [ 1.02  1.08  0.03  1.17 -3.45]]\n"
          ]
        }
      ]
    },
    {
      "cell_type": "markdown",
      "source": [
        "**Matrix Multiplication** using Pytorch"
      ],
      "metadata": {
        "id": "o3kiz-qMB3TQ"
      }
    },
    {
      "cell_type": "code",
      "source": [
        "A = torch.randn(3,4)\n",
        "B = torch.randn(4,5)\n",
        "C = np.random.randn(4,6)\n",
        "\n",
        "# Matrix multiplication Using @\n",
        "print(np.round(A@B, 2))\n",
        "print(' ')\n",
        "print(np.round(A@C, 2))"
      ],
      "metadata": {
        "colab": {
          "base_uri": "https://localhost:8080/"
        },
        "id": "ZexbHASfB3Aq",
        "outputId": "140ad882-e291-4f72-c183-87229a1c8d0d"
      },
      "execution_count": null,
      "outputs": [
        {
          "output_type": "stream",
          "name": "stdout",
          "text": [
            "tensor([[ 1.3100, -0.9900, -1.9700, -0.1400, -1.0200],\n",
            "        [-0.9600,  1.6600,  0.0600,  0.4600, -1.7300],\n",
            "        [-1.0400,  0.6500,  1.1800,  0.8800, -1.9200]])\n",
            " \n",
            "tensor([[ 0.2900,  1.2900, -2.2300, -0.3000,  1.1000,  0.1700],\n",
            "        [ 0.0800, -0.9900,  0.6400, -1.7800,  1.1600,  0.4900],\n",
            "        [-1.3100, -0.1800,  0.5100, -1.6500,  1.3400,  0.9700]],\n",
            "       dtype=torch.float64)\n"
          ]
        }
      ]
    },
    {
      "cell_type": "markdown",
      "source": [
        "**Softmax** using numpy"
      ],
      "metadata": {
        "id": "OjkQn7Od6J_L"
      }
    },
    {
      "cell_type": "code",
      "source": [
        "z = [1,2,3,4]\n",
        "\n",
        "# Compute the softmax result\n",
        "numer = np.exp(z)\n",
        "denom = np.sum(numer)\n",
        "sigma = numer/denom\n",
        "\n",
        "print(sigma)\n",
        "print(f\"Softmax Sum = {np.sum(sigma)}\")\n",
        "print('')"
      ],
      "metadata": {
        "id": "olkwRJDhItiJ",
        "colab": {
          "base_uri": "https://localhost:8080/"
        },
        "outputId": "7787712c-efe1-4e1e-cafa-a90977b346cf"
      },
      "execution_count": null,
      "outputs": [
        {
          "output_type": "stream",
          "name": "stdout",
          "text": [
            "[0.0320586  0.08714432 0.23688282 0.64391426]\n",
            "Softmax Sum = 1.0\n",
            "\n"
          ]
        }
      ]
    },
    {
      "cell_type": "code",
      "source": [
        "x = np.random.randint(low=-5,high=15,size=(25))\n",
        "\n",
        "# Compute the softmax result\n",
        "numer = np.exp(x)\n",
        "denom = np.sum(numer)\n",
        "sigma = numer/denom\n",
        "\n",
        "print(sigma)\n",
        "print(f\"Softmax Sum = {np.sum(sigma)}\")\n",
        "print('')\n",
        "\n",
        "# compare\n",
        "plt.plot(x,sigma,'ko')\n",
        "plt.xlabel('Original data')\n",
        "plt.ylabel('Softmax data')\n",
        "plt.yscale('log')\n",
        "plt.title('$\\sum\\sigma$ = %g'%np.sum(sigma))\n",
        "plt.show()\n"
      ],
      "metadata": {
        "colab": {
          "base_uri": "https://localhost:8080/",
          "height": 633
        },
        "id": "l3fy930n7pZk",
        "outputId": "ee897e3e-d7e2-4044-b94a-4f030330c7ba"
      },
      "execution_count": null,
      "outputs": [
        {
          "output_type": "stream",
          "name": "stdout",
          "text": [
            "[1.42956397e-02 2.87135600e-01 2.87135600e-01 2.87135600e-01\n",
            " 1.76422210e-06 7.11737993e-04 1.42956397e-02 4.79565287e-06\n",
            " 2.61833775e-04 6.49021040e-07 3.54353481e-05 3.88595777e-02\n",
            " 8.78354463e-08 3.88595777e-02 6.49021040e-07 1.30359361e-05\n",
            " 7.11737993e-04 1.30359361e-05 4.37306937e-09 1.42956397e-02\n",
            " 1.18872350e-08 1.42956397e-02 1.76422210e-06 1.93470445e-03\n",
            " 2.38761497e-07]\n",
            "Softmax Sum = 1.0\n",
            "\n"
          ]
        },
        {
          "output_type": "display_data",
          "data": {
            "text/plain": [
              "<Figure size 640x480 with 1 Axes>"
            ],
            "image/png": "[encoded data removed]"
          },
          "metadata": {}
        }
      ]
    },
    {
      "cell_type": "markdown",
      "source": [
        "**Softmax** using PyTorch"
      ],
      "metadata": {
        "id": "1M-INhsQCMwb"
      }
    },
    {
      "cell_type": "code",
      "source": [
        "x = np.random.randint(-5,10,20)\n",
        "z = torch.Tensor(x)\n",
        "\n",
        "# Compute the softmax\n",
        "numer = torch.exp(z)\n",
        "denom = torch.sum(numer)\n",
        "sigma = numer/denom\n",
        "\n",
        "print(sigma)\n",
        "print(f'Softmax Sum = {torch.sum(sigma)}')\n",
        "print(' ')\n",
        "\n",
        "# Softmax using inbuilt function\n",
        "import torch.nn as nn\n",
        "softmax = nn.Softmax(dim = 0)\n",
        "print(softmax(z))\n",
        "\n",
        "# Compare\n",
        "plt.plot(z,sigma,'bo')\n",
        "plt.xlabel('Original data')\n",
        "plt.ylabel('Softmax data')\n",
        "plt.yscale('log')\n",
        "plt.title('$\\sum\\sigma$ = %g'%torch.sum(sigma))\n",
        "plt.show()"
      ],
      "metadata": {
        "colab": {
          "base_uri": "https://localhost:8080/",
          "height": 651
        },
        "id": "CvkM8GjY-Q1s",
        "outputId": "6c0d89dc-701a-4a8b-c4e5-3aed804af065"
      },
      "execution_count": null,
      "outputs": [
        {
          "output_type": "stream",
          "name": "stdout",
          "text": [
            "tensor([6.2762e-06, 3.7578e-01, 2.3089e-06, 3.1247e-07, 1.2606e-04, 1.2606e-04,\n",
            "        6.8827e-03, 1.3824e-01, 6.2762e-06, 5.0856e-02, 1.2606e-04, 8.4939e-07,\n",
            "        6.2762e-06, 9.3147e-04, 1.2606e-04, 1.7060e-05, 3.7578e-01, 1.2606e-04,\n",
            "        3.1247e-07, 5.0856e-02])\n",
            "Softmax Sum = 1.0\n",
            " \n",
            "tensor([6.2762e-06, 3.7578e-01, 2.3089e-06, 3.1247e-07, 1.2606e-04, 1.2606e-04,\n",
            "        6.8827e-03, 1.3824e-01, 6.2762e-06, 5.0856e-02, 1.2606e-04, 8.4939e-07,\n",
            "        6.2762e-06, 9.3147e-04, 1.2606e-04, 1.7060e-05, 3.7578e-01, 1.2606e-04,\n",
            "        3.1247e-07, 5.0856e-02])\n"
          ]
        },
        {
          "output_type": "display_data",
          "data": {
            "text/plain": [
              "<Figure size 640x480 with 1 Axes>"
            ],
            "image/png": "[encoded data removed]"
          },
          "metadata": {}
        }
      ]
    },
    {
      "cell_type": "markdown",
      "source": [
        "**log()** using numpy"
      ],
      "metadata": {
        "id": "VFfjiDviWreX"
      }
    },
    {
      "cell_type": "code",
      "source": [
        "arr = np.linspace(0,10,40)\n",
        "\n",
        "# compute logarithm\n",
        "logarr = np.log(arr)\n",
        "\n",
        "# Visualize\n",
        "plt.plot(arr,logarr,'ro-')\n",
        "plt.xlabel('Values')\n",
        "plt.ylabel('Log values')\n",
        "plt.title('Logarithms')"
      ],
      "metadata": {
        "colab": {
          "base_uri": "https://localhost:8080/",
          "height": 544
        },
        "id": "2RE8UhQ3Wxg5",
        "outputId": "9c4f26dd-27e4-447a-f0af-487260565fa6"
      },
      "execution_count": null,
      "outputs": [
        {
          "output_type": "stream",
          "name": "stderr",
          "text": [
            "<ipython-input-11-bc6a5c59c5d0>:4: RuntimeWarning: divide by zero encountered in log\n",
            "  logarr = np.log(arr)\n"
          ]
        },
        {
          "output_type": "execute_result",
          "data": {
            "text/plain": [
              "Text(0.5, 1.0, 'Logarithms')"
            ]
          },
          "metadata": {},
          "execution_count": 11
        },
        {
          "output_type": "display_data",
          "data": {
            "text/plain": [
              "<Figure size 640x480 with 1 Axes>"
            ],
            "image/png": "[encoded data removed]"
          },
          "metadata": {}
        }
      ]
    },
    {
      "cell_type": "markdown",
      "source": [
        "**Entropy** using numpy\n"
      ],
      "metadata": {
        "id": "gIx47NLytCQF"
      }
    },
    {
      "cell_type": "code",
      "source": [
        "# probability of an event happening\n",
        "p = 0.25\n",
        "\n",
        "# probability of above event not happening\n",
        "q = 1 - p\n",
        "\n",
        "#Now entropy\n",
        "ent = -(p*np.log(p) + q*np.log(q))\n",
        "print(f'Entropy : {ent}')"
      ],
      "metadata": {
        "colab": {
          "base_uri": "https://localhost:8080/"
        },
        "id": "5332TS9ZW6Kt",
        "outputId": "173398e0-9918-47f2-8d97-050fba110939"
      },
      "execution_count": null,
      "outputs": [
        {
          "output_type": "stream",
          "name": "stdout",
          "text": [
            "Entropy : 0.5623351446188083\n"
          ]
        }
      ]
    },
    {
      "cell_type": "markdown",
      "source": [
        "**Cross Entropy** using numpy"
      ],
      "metadata": {
        "id": "V31hNkE80hcR"
      }
    },
    {
      "cell_type": "code",
      "source": [
        "#Actual probabilities (either happening or not happening)\n",
        "p = [1,0]\n",
        "\n",
        "# Computed probabilities ny model\n",
        "q = [0.25,0.75]\n",
        "\n",
        "ent = 0\n",
        "# Cross entropy estabilishes the relation between p and q\n",
        "for i,j in zip(p,q):\n",
        "    ent += -i*np.log(j)\n",
        "\n",
        "print(f\"Cross Entropy : {ent}\")"
      ],
      "metadata": {
        "colab": {
          "base_uri": "https://localhost:8080/"
        },
        "id": "fPuqgDYo0b7h",
        "outputId": "d109c583-7639-4ac5-ada7-2d73be27649e"
      },
      "execution_count": null,
      "outputs": [
        {
          "output_type": "stream",
          "name": "stdout",
          "text": [
            "Cross Entropy : 1.3862943611198906\n"
          ]
        }
      ]
    },
    {
      "cell_type": "markdown",
      "source": [
        "**Cross Entropy** using PyTorch"
      ],
      "metadata": {
        "id": "DJ8fUyLb2nhU"
      }
    },
    {
      "cell_type": "code",
      "source": [
        "#Actual probabilities (either happening or not happening)\n",
        "p = [1,0]\n",
        "\n",
        "# Computed probabilities ny model\n",
        "q = [0.25,0.75]\n",
        "\n",
        "import torch.nn.functional as F\n",
        "\n",
        "pt = torch.Tensor(p)\n",
        "qt = torch.Tensor(q)\n",
        "\n",
        "ent = F.binary_cross_entropy(qt,pt)\n",
        "print(f'Cross Entropy : {ent}')"
      ],
      "metadata": {
        "colab": {
          "base_uri": "https://localhost:8080/"
        },
        "id": "6vMu-0TL1J7O",
        "outputId": "5e8546ed-bcdf-494b-f446-0d5c880e6e7d"
      },
      "execution_count": null,
      "outputs": [
        {
          "output_type": "stream",
          "name": "stdout",
          "text": [
            "Cross Entropy : 1.3862943649291992\n"
          ]
        }
      ]
    },
    {
      "cell_type": "markdown",
      "source": [
        "**Min/Max and argmin/argmax** using numpy"
      ],
      "metadata": {
        "id": "kNWkI0_LEY5c"
      }
    },
    {
      "cell_type": "code",
      "source": [
        "#Initialize a matrix\n",
        "mat = np.random.randint(-10,10,size=(2,3))\n",
        "print(f'Matrix = {mat}')\n",
        "print(' ')\n",
        "\n",
        "#various minima in this matrix\n",
        "min1 = np.min(mat) #Minimum of whole matrix\n",
        "min2 = np.min(mat,axis = 0) #Minimum of each column\n",
        "min3 = np.min(mat,axis = 1) #Minimum of each row\n",
        "\n",
        "print(min1)\n",
        "print(min2)\n",
        "print(min3)\n",
        "print(' ')\n",
        "\n",
        "#various maxima in this matrix\n",
        "max1 = np.max(mat) #Max of whole matrix\n",
        "max2 = np.max(mat,axis = 0) #Maximum of each column (across rows)\n",
        "max3 = np.max(mat,axis = 1) #Maximum of each row (across columns)\n",
        "\n",
        "print(max1)\n",
        "print(max2)\n",
        "print(max3)"
      ],
      "metadata": {
        "colab": {
          "base_uri": "https://localhost:8080/"
        },
        "id": "FxFy3VVn4HUU",
        "outputId": "45573c8e-e89e-45f5-a637-6cdef758a50a"
      },
      "execution_count": null,
      "outputs": [
        {
          "output_type": "stream",
          "name": "stdout",
          "text": [
            "Matrix = [[ 6 -6  3]\n",
            " [ 2  8  3]]\n",
            " \n",
            "-6\n",
            "[ 2 -6  3]\n",
            "[-6  2]\n",
            " \n",
            "8\n",
            "[6 8 3]\n",
            "[6 8]\n"
          ]
        }
      ]
    },
    {
      "cell_type": "code",
      "source": [
        "#various minimal indexes in this matrix\n",
        "minidx1 = np.argmin(mat) #Index of Minimum of whole matrix\n",
        "minidx2 = np.argmin(mat,axis = 0) #Index of Minimum of each column\n",
        "minidx3 = np.argmin(mat,axis = 1) #Index of Minimum of each row\n",
        "\n",
        "print(minidx1)\n",
        "print(minidx2)\n",
        "print(minidx3)\n",
        "print(' ')\n",
        "\n",
        "#various maxima in this matrix\n",
        "maxidx1 = np.argmax(mat) #Index of Max of whole matrix\n",
        "maxidx2 = np.argmax(mat,axis = 0) #Index of Maximum of each column (across rows)\n",
        "maxidx3 = np.argmax(mat,axis = 1) #Index of Maximum of each row (across columns)\n",
        "\n",
        "print(maxidx1)\n",
        "print(maxidx2)\n",
        "print(maxidx3)"
      ],
      "metadata": {
        "colab": {
          "base_uri": "https://localhost:8080/"
        },
        "id": "3t7I4SSfE6dt",
        "outputId": "d44d661c-4d75-4dad-861e-5cc1135bbf50"
      },
      "execution_count": null,
      "outputs": [
        {
          "output_type": "stream",
          "name": "stdout",
          "text": [
            "1\n",
            "[1 0 0]\n",
            "[1 0]\n",
            " \n",
            "4\n",
            "[0 1 0]\n",
            "[0 1]\n"
          ]
        }
      ]
    },
    {
      "cell_type": "markdown",
      "source": [
        "**Min/Max and argmin/argmax** using PyTorch\n",
        "\n",
        "The torch.min() returns both minimal values and their indices\n",
        "\n",
        "The torch.max() returns both maximal values and their indices\n",
        "\n"
      ],
      "metadata": {
        "id": "cmVSdqH0Hr77"
      }
    },
    {
      "cell_type": "code",
      "source": [
        "mat = torch.tensor([[1,5,-6],\n",
        "                    [0,-2,3]])\n",
        "\n",
        "print(mat)\n",
        "print(' ')\n",
        "\n",
        "#various minimal indexes in this matrix\n",
        "minidx1 = torch.min(mat) #Index of Minimum of whole matrix\n",
        "minidx2 = torch.min(mat,axis = 0) #Index of Minimum of each column\n",
        "minidx3 = torch.min(mat,axis = 1) #Index of Minimum of each row\n",
        "\n",
        "print(minidx1),print(' ')\n",
        "print(minidx2),print(' ')\n",
        "print(minidx3),print(' ')\n",
        "\n",
        "#various maxima in this matrix\n",
        "max1 = torch.max(mat) #Max of whole matrix\n",
        "max2 = torch.max(mat,axis = 0) #Maximum of each column (across rows)\n",
        "max3 = torch.max(mat,axis = 1) #Maximum of each row (across columns)\n",
        "\n",
        "print(max1),print(' ')\n",
        "print(max2),print(' ')\n",
        "print(max3),print(' ')\n"
      ],
      "metadata": {
        "colab": {
          "base_uri": "https://localhost:8080/"
        },
        "id": "4VVboHn-Hvg8",
        "outputId": "246c34f7-73f6-4d25-8be5-748d3cf670e5"
      },
      "execution_count": null,
      "outputs": [
        {
          "output_type": "stream",
          "name": "stdout",
          "text": [
            "tensor([[ 1,  5, -6],\n",
            "        [ 0, -2,  3]])\n",
            " \n",
            "tensor(-6)\n",
            " \n",
            "torch.return_types.min(\n",
            "values=tensor([ 0, -2, -6]),\n",
            "indices=tensor([1, 1, 0]))\n",
            " \n",
            "torch.return_types.min(\n",
            "values=tensor([-6, -2]),\n",
            "indices=tensor([2, 1]))\n",
            " \n",
            "tensor(5)\n",
            " \n",
            "torch.return_types.max(\n",
            "values=tensor([1, 5, 3]),\n",
            "indices=tensor([0, 0, 1]))\n",
            " \n",
            "torch.return_types.max(\n",
            "values=tensor([5, 3]),\n",
            "indices=tensor([1, 2]))\n",
            " \n"
          ]
        },
        {
          "output_type": "execute_result",
          "data": {
            "text/plain": [
              "(None, None)"
            ]
          },
          "metadata": {},
          "execution_count": 17
        }
      ]
    },
    {
      "cell_type": "markdown",
      "source": [
        "**Mean and variance** using numpy"
      ],
      "metadata": {
        "id": "DVSXf6jPUPQI"
      }
    },
    {
      "cell_type": "code",
      "source": [
        "arr = np.random.randint(0,10,5)\n",
        "print(arr),print(' ')\n",
        "#Mean\n",
        "mean = np.mean(arr)\n",
        "print(f\"Mean = {mean}\"),print(' ')\n",
        "\n",
        "#Variance\n",
        "variance = np.var(arr)\n",
        "print(f\"Biased Variance = {variance}\") #Degrees of freedom = 0\n",
        "variance1 = np.var(arr,ddof=1)\n",
        "print(f\"Un-Biased Variance = {variance1}\") #Degrees of freedom = 1\n"
      ],
      "metadata": {
        "colab": {
          "base_uri": "https://localhost:8080/"
        },
        "id": "45uUkcZfUUdH",
        "outputId": "a37394cf-b5e2-465d-c182-7c5e2fe9cfd2"
      },
      "execution_count": null,
      "outputs": [
        {
          "output_type": "stream",
          "name": "stdout",
          "text": [
            "[1 9 8 1 0]\n",
            " \n",
            "Mean = 3.8\n",
            " \n",
            "Biased Variance = 14.959999999999999\n",
            "Un-Biased Variance = 18.7\n"
          ]
        }
      ]
    },
    {
      "cell_type": "markdown",
      "source": [
        "**Seeding** in numpy"
      ],
      "metadata": {
        "id": "Ama4LDqG6159"
      }
    },
    {
      "cell_type": "code",
      "source": [
        "# Seeding entirely\n",
        "\n",
        "np.random.seed(23)\n",
        "print(np.random.randn(3))\n",
        "print(np.random.randint(-4,10,5))\n",
        "\n",
        "# [ 0.66698806  0.02581308 -0.77761941]\n",
        "# [8 7 3 6 5]"
      ],
      "metadata": {
        "colab": {
          "base_uri": "https://localhost:8080/"
        },
        "id": "nzfqzAYVCPfA",
        "outputId": "9e8707d3-5f79-4c2c-98ea-13dbe0d6f229"
      },
      "execution_count": null,
      "outputs": [
        {
          "output_type": "stream",
          "name": "stdout",
          "text": [
            "[ 0.66698806  0.02581308 -0.77761941]\n",
            "[8 7 3 6 5]\n"
          ]
        }
      ]
    },
    {
      "cell_type": "code",
      "source": [
        "# Seeding locally\n",
        "\n",
        "randseed1 = np.random.RandomState(17)\n",
        "randseed2 = np.random.RandomState(742)\n",
        "\n",
        "print(randseed1.randn(5))\n",
        "print(randseed2.randn(5))\n",
        "print(randseed1.randn(5))\n",
        "print(randseed2.randn(5))\n",
        "print(np.random.randn(5)) #Changes after every run because not seeded\n",
        "\n",
        "# [ 0.27626589 -1.85462808  0.62390111  1.14531129  1.03719047]\n",
        "# [-1.84909244 -0.47851427  0.81439455  0.76920925 -1.37318478]\n",
        "# [ 1.88663893 -0.11169829 -0.36210134  0.14867505 -0.43778315]\n",
        "# [ 1.62742346 -2.31169981  0.47584118 -0.31870055  0.78219986]\n",
        "# [-1.06678005e+00  7.66536859e-01 -3.56230157e-01  1.20631023e-01\n",
        "#  -6.00947781e-04]"
      ],
      "metadata": {
        "colab": {
          "base_uri": "https://localhost:8080/"
        },
        "id": "IIFunueM65nX",
        "outputId": "85d3d107-879d-44bb-f0d6-64c6d57675fc"
      },
      "execution_count": null,
      "outputs": [
        {
          "output_type": "stream",
          "name": "stdout",
          "text": [
            "[ 0.27626589 -1.85462808  0.62390111  1.14531129  1.03719047]\n",
            "[-1.84909244 -0.47851427  0.81439455  0.76920925 -1.37318478]\n",
            "[ 1.88663893 -0.11169829 -0.36210134  0.14867505 -0.43778315]\n",
            "[ 1.62742346 -2.31169981  0.47584118 -0.31870055  0.78219986]\n",
            "[ 0.94863382 -0.17420542 -0.24866829 -0.26520789  1.20713596]\n"
          ]
        }
      ]
    },
    {
      "cell_type": "markdown",
      "source": [
        "**Seeding** in PyTorch"
      ],
      "metadata": {
        "id": "2kcuZdXNCKCy"
      }
    },
    {
      "cell_type": "code",
      "source": [
        "torch.manual_seed(12)\n",
        "print(torch.randn(5))\n",
        "\n",
        "# torch seeds are not spread to numpy\n",
        "print(np.random.randn(5))\n",
        "\n",
        "# tensor([-0.2138, -1.3780, -0.0546,  0.4515,  0.7858])\n",
        "# [ 0.94863382 -0.17420542 -0.24866829 -0.26520789  1.20713596] Keeps on changing\n"
      ],
      "metadata": {
        "colab": {
          "base_uri": "https://localhost:8080/"
        },
        "id": "Kzq_jmUw7A8O",
        "outputId": "704e816c-8412-4fd6-d07e-b0517cbffb1d"
      },
      "execution_count": null,
      "outputs": [
        {
          "output_type": "stream",
          "name": "stdout",
          "text": [
            "tensor([-0.2138, -1.3780, -0.0546,  0.4515,  0.7858])\n",
            "[ 0.49792271  0.82492209 -0.77313509 -0.45435481 -0.49566853]\n"
          ]
        }
      ]
    },
    {
      "cell_type": "markdown",
      "source": [
        "**Derivatives** using sympy"
      ],
      "metadata": {
        "id": "spmpN8DKiAgt"
      }
    },
    {
      "cell_type": "code",
      "source": [
        "import sympy as sym\n",
        "import sympy.plotting.plot as symplot\n",
        "\n",
        "#Create symbolic variables in numpy\n",
        "x = sym.symbols('x')\n",
        "\n",
        "#Define a function f(x)\n",
        "fx = 2*x**2\n",
        "\n",
        "#Differentiate f(x) w.r.t x\n",
        "df = sym.diff(fx,x)\n",
        "\n",
        "print(f'Function = {fx}')\n",
        "print(f'Derivative = {df}'),print(' ')\n",
        "\n",
        "symplot(fx,(x,-4,4),title='Function f(x)')\n",
        "plt.show()\n",
        "\n",
        "symplot(df,(x,-4,4),title='Derivative of f(x)')\n",
        "plt.show()\n"
      ],
      "metadata": {
        "id": "FgoemDUce4Ci",
        "colab": {
          "base_uri": "https://localhost:8080/",
          "height": 1000
        },
        "outputId": "b62634d4-bcd2-4edb-ca5c-40eb6a71b077"
      },
      "execution_count": null,
      "outputs": [
        {
          "output_type": "stream",
          "name": "stdout",
          "text": [
            "Function = 2*x**2\n",
            "Derivative = 4*x\n",
            " \n"
          ]
        },
        {
          "output_type": "display_data",
          "data": {
            "text/plain": [
              "<Figure size 640x480 with 1 Axes>"
            ],
            "image/png": "[encoded data removed]"
          },
          "metadata": {}
        },
        {
          "output_type": "display_data",
          "data": {
            "text/plain": [
              "<Figure size 640x480 with 1 Axes>"
            ],
            "image/png": "[encoded data removed]"
          },
          "metadata": {}
        }
      ]
    },
    {
      "cell_type": "markdown",
      "source": [
        "**Derivatives - The product rule**"
      ],
      "metadata": {
        "id": "3PHc7bqN9XGh"
      }
    },
    {
      "cell_type": "code",
      "source": [
        "from IPython.display import display #Used to change the fonts of the mathematical functions. Makes them look nicer and better. Ex : display(fx),display(manual_dfg)\n",
        "\n",
        "y = sym.symbols('y')\n",
        "\n",
        "fy = 2*y**2\n",
        "gy= 4*y**3 - 3*y**4\n",
        "\n",
        "df = sym.diff(fy,y)\n",
        "dg = sym.diff(gy,y)\n",
        "\n",
        "#manual differentiation of fy*gy\n",
        "manual_dfg = fy*dg + df*gy\n",
        "#wrong differentiation of fy*gy\n",
        "wrong_dfg = df*dg\n",
        "\n",
        "#using sympy\n",
        "dfg = sym.diff(fy*gy,y)\n",
        "\n",
        "print(f'Manual Differentiation = {manual_dfg}')\n",
        "print(f'Differentiation using sympy = {dfg}')\n",
        "print(f\"Wrong way of differentiation (f'(y)*g'(y)') = {wrong_dfg}\"),print(' ')\n",
        "\n",
        "print(\"We observe that First and Second are same\")"
      ],
      "metadata": {
        "colab": {
          "base_uri": "https://localhost:8080/"
        },
        "id": "LFkBpPDK9bgq",
        "outputId": "469170c1-3360-49e4-da6a-d8bc6304e8ef"
      },
      "execution_count": null,
      "outputs": [
        {
          "output_type": "stream",
          "name": "stdout",
          "text": [
            "Manual Differentiation = 2*y**2*(-12*y**3 + 12*y**2) + 4*y*(-3*y**4 + 4*y**3)\n",
            "Differentiation using sympy = 2*y**2*(-12*y**3 + 12*y**2) + 4*y*(-3*y**4 + 4*y**3)\n",
            "Wrong way of differentiation (f'(y)*g'(y)') = 4*y*(-12*y**3 + 12*y**2)\n",
            " \n",
            "We observe that First and Second are same\n"
          ]
        }
      ]
    },
    {
      "cell_type": "markdown",
      "source": [
        "**Derivatives - The Chain rule**"
      ],
      "metadata": {
        "id": "yTSE_4D-CRxV"
      }
    },
    {
      "cell_type": "code",
      "source": [
        "x = sym.symbols('x')\n",
        "\n",
        "fx = 5*(4*x**3 - 5*x)**4\n",
        "\n",
        "print(f'Derivative of f(x) from chain rule = {sym.diff(fx,x)}')\n"
      ],
      "metadata": {
        "colab": {
          "base_uri": "https://localhost:8080/"
        },
        "id": "eePr1NLGCmU6",
        "outputId": "fc37cd2c-ee54-4dc2-976b-08b30412b9a4"
      },
      "execution_count": 33,
      "outputs": [
        {
          "output_type": "stream",
          "name": "stdout",
          "text": [
            "Derivative of f(x) from chain rule = 5*(48*x**2 - 20)*(4*x**3 - 5*x)**3\n"
          ]
        }
      ]
    }
  ]
}